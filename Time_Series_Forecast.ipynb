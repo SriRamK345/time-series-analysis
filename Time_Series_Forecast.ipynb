{
  "nbformat": 4,
  "nbformat_minor": 0,
  "metadata": {
    "colab": {
      "private_outputs": true,
      "provenance": [],
      "mount_file_id": "1Bf-bhD7Bjl05gn7tBxJGZr7MFjb0-QGa",
      "authorship_tag": "ABX9TyPk2ZGMtYa9HvTk7zqXPnHT",
      "include_colab_link": true
    },
    "kernelspec": {
      "name": "python3",
      "display_name": "Python 3"
    },
    "language_info": {
      "name": "python"
    }
  },
  "cells": [
    {
      "cell_type": "markdown",
      "metadata": {
        "id": "view-in-github",
        "colab_type": "text"
      },
      "source": [
        "<a href=\"https://colab.research.google.com/github/SriRamK345/time-series-analysis/blob/main/Time_Series_Forecast.ipynb\" target=\"_parent\"><img src=\"https://colab.research.google.com/assets/colab-badge.svg\" alt=\"Open In Colab\"/></a>"
      ]
    },
    {
      "cell_type": "markdown",
      "source": [
        "# 1. Importing Necessary libraries\n"
      ],
      "metadata": {
        "id": "ONiQZm9ETxKR"
      }
    },
    {
      "cell_type": "code",
      "execution_count": null,
      "metadata": {
        "id": "ro7-5zP5PpIG"
      },
      "outputs": [],
      "source": [
        "import pandas as pd\n",
        "import numpy as np\n",
        "import matplotlib.pyplot as plt\n",
        "import seaborn as sns\n",
        "import warnings\n",
        "warnings.filterwarnings('ignore')"
      ]
    },
    {
      "cell_type": "markdown",
      "source": [
        "# 2. Loading Dataset"
      ],
      "metadata": {
        "id": "2Oqh32AtT1p2"
      }
    },
    {
      "cell_type": "code",
      "source": [
        "df = pd.read_csv(\"/content/drive/MyDrive/Time series/Dataset- Superstore (2015-2018).csv.zip\")\n",
        "df.head()"
      ],
      "metadata": {
        "id": "r-qwP1UIT56V"
      },
      "execution_count": null,
      "outputs": []
    },
    {
      "cell_type": "code",
      "source": [
        "df[\"Category\"].value_counts()"
      ],
      "metadata": {
        "id": "o81eB9naT58F"
      },
      "execution_count": null,
      "outputs": []
    },
    {
      "cell_type": "code",
      "source": [
        "off_sdf= df.loc[df['Category']=='Office Supplies']\n",
        "off_sdf.head(5)"
      ],
      "metadata": {
        "id": "o6G92foHUcyH"
      },
      "execution_count": null,
      "outputs": []
    },
    {
      "cell_type": "code",
      "source": [
        "print('Starting date:',off_sdf['Order Date'].min())\n",
        "print('Ending date:',off_sdf['Order Date'].max())"
      ],
      "metadata": {
        "id": "O2GUHNrAUuVR"
      },
      "execution_count": null,
      "outputs": []
    },
    {
      "cell_type": "markdown",
      "source": [
        "We have a four year of Office Supplies data:"
      ],
      "metadata": {
        "id": "vL-yHVeUVCuY"
      }
    },
    {
      "cell_type": "markdown",
      "source": [
        "# 3. Data Processing"
      ],
      "metadata": {
        "id": "yaWF9XMyVFlw"
      }
    },
    {
      "cell_type": "code",
      "source": [
        "# Drop unrelevant variables:\n",
        "cols = ['Row ID', 'Order ID', 'Ship Date', 'Ship Mode', 'Customer ID', 'Customer Name', 'Segment', 'Country', 'City', 'State', 'Postal Code', 'Region', 'Product ID', 'Category', 'Sub-Category', 'Product Name', 'Quantity', 'Discount', 'Profit']\n",
        "\n",
        "off_sdf.drop(cols, axis=1, inplace= True)\n",
        "off_sdf"
      ],
      "metadata": {
        "id": "nKERNqJVUrHX"
      },
      "execution_count": null,
      "outputs": []
    },
    {
      "cell_type": "code",
      "source": [
        "off_sdf.info()"
      ],
      "metadata": {
        "id": "F62sc-cQVbTo"
      },
      "execution_count": null,
      "outputs": []
    },
    {
      "cell_type": "code",
      "source": [
        "df[\"Order Date\"] = pd.to_datetime(df[\"Order Date\"])"
      ],
      "metadata": {
        "id": "dTVoPa4wVfZZ"
      },
      "execution_count": null,
      "outputs": []
    },
    {
      "cell_type": "code",
      "source": [
        "off_sdf.isnull().sum()"
      ],
      "metadata": {
        "id": "sdVg4MqDVjfg"
      },
      "execution_count": null,
      "outputs": []
    },
    {
      "cell_type": "markdown",
      "source": [
        "# 4. Indexing time series data"
      ],
      "metadata": {
        "id": "-UEjNYv2W3p3"
      }
    },
    {
      "cell_type": "code",
      "source": [
        "off_sdf.set_index(\"Order Date\",inplace=True)"
      ],
      "metadata": {
        "id": "APdW_QpZVoUY"
      },
      "execution_count": null,
      "outputs": []
    },
    {
      "cell_type": "code",
      "source": [
        "off_sdf"
      ],
      "metadata": {
        "id": "ITGxH3fbWuzb"
      },
      "execution_count": null,
      "outputs": []
    },
    {
      "cell_type": "markdown",
      "source": [
        "## Visualizing furniture sales time series data"
      ],
      "metadata": {
        "id": "bK_0xcbuXiLE"
      }
    },
    {
      "cell_type": "code",
      "source": [
        "off_sdf.plot(figsize=(15, 6))\n",
        "plt.show()"
      ],
      "metadata": {
        "id": "NhEnptaBXGay"
      },
      "execution_count": null,
      "outputs": []
    },
    {
      "cell_type": "markdown",
      "source": [
        "The above is quite busy to interpret, we should use the resample function the time series data by Month and use the averages monthly values"
      ],
      "metadata": {
        "id": "bPK4ZeNNXqQj"
      }
    },
    {
      "cell_type": "code",
      "source": [
        "# Ensure 'Order Date' is of datetime type\n",
        "off_sdf.index = pd.to_datetime(off_sdf.index)"
      ],
      "metadata": {
        "id": "-blQKBIvqZUA"
      },
      "execution_count": null,
      "outputs": []
    },
    {
      "cell_type": "code",
      "source": [
        "# creating new DataFrame\n",
        "monthly_OS = pd.DataFrame()\n",
        "\n",
        "monthly_OS['Sales'] = off_sdf['Sales'].resample('MS').mean()"
      ],
      "metadata": {
        "id": "XKcM2BW7Xboa"
      },
      "execution_count": null,
      "outputs": []
    },
    {
      "cell_type": "code",
      "source": [
        "#plot weekly sales data\n",
        "plt.figure(figsize=(15, 6))\n",
        "plt.plot(monthly_OS.index, monthly_OS.Sales, linewidth=3)"
      ],
      "metadata": {
        "id": "3daNJLiEqip-"
      },
      "execution_count": null,
      "outputs": []
    },
    {
      "cell_type": "markdown",
      "source": [
        "Since all values are positive, you can show this on both sides of the Y axis to emphasize the growth."
      ],
      "metadata": {
        "id": "O5r66QuCq26N"
      }
    },
    {
      "cell_type": "code",
      "source": [
        "x= monthly_OS.index\n",
        "y1= monthly_OS['Sales'].values\n",
        "\n",
        "fig, ax = plt.subplots(1, 1, figsize=(16,5), dpi= 120)\n",
        "plt.fill_between(x, y1=y1, y2=-y1, alpha=0.5, linewidth=2, color='seagreen')\n",
        "plt.ylim(-800, 800)\n",
        "plt.title('Sales (Two Side View)', fontsize=16)\n",
        "plt.hlines(y=0, xmin=np.min(monthly_OS.index), xmax=np.max(monthly_OS.index), linewidth=.5)\n",
        "plt.show()"
      ],
      "metadata": {
        "id": "boStHGJWqsYm"
      },
      "execution_count": null,
      "outputs": []
    },
    {
      "cell_type": "code",
      "source": [
        "cpy_df = off_sdf.copy()\n",
        "cpy_df.reset_index(inplace=True)\n",
        "cpy_df.head()"
      ],
      "metadata": {
        "id": "Ggh4-HE5sEAb"
      },
      "execution_count": null,
      "outputs": []
    },
    {
      "cell_type": "code",
      "source": [
        "# seperating month and year\n",
        "cpy_df['month'] = cpy_df['Order Date'].dt.month\n",
        "cpy_df['year'] = cpy_df['Order Date'].dt.year\n",
        "cpy_df.head()"
      ],
      "metadata": {
        "id": "0b2xHXKvsO0e"
      },
      "execution_count": null,
      "outputs": []
    },
    {
      "cell_type": "code",
      "source": [
        "# Draw Plot\n",
        "fig, axes = plt.subplots(1, 2, figsize=(20,7), dpi= 80)\n",
        "sns.boxplot(x='year', y='Sales', data=cpy_df, ax=axes[0])\n",
        "sns.boxplot(x='month', y='Sales', data=cpy_df.loc[~cpy_df.year.isin([2014,2917]), :])\n",
        "\n",
        "# Set Title\n",
        "axes[0].set_title('Year-wise Box Plot\\n(The Trend)', fontsize=18);\n",
        "axes[1].set_title('Month-wise Box Plot\\n(The Seasonality)', fontsize=18)\n",
        "plt.show()"
      ],
      "metadata": {
        "id": "sZ9ZazNzskv1"
      },
      "execution_count": null,
      "outputs": []
    },
    {
      "cell_type": "code",
      "source": [
        "from pylab import rcParams\n",
        "import statsmodels.api as sm\n",
        "\n",
        "rcParams['figure.figsize'] = 18, 8\n",
        "\n",
        "decomposition = sm.tsa.seasonal_decompose(monthly_OS['Sales'], model='additive')\n",
        "fig = decomposition.plot()\n",
        "plt.show()"
      ],
      "metadata": {
        "id": "Chim3VYqs_s2"
      },
      "execution_count": null,
      "outputs": []
    },
    {
      "cell_type": "markdown",
      "source": [
        "The plots show the data is seasonality"
      ],
      "metadata": {
        "id": "uoR0RQ76uJQh"
      }
    },
    {
      "cell_type": "markdown",
      "source": [
        "# 6. Check Stationary of the Dataset"
      ],
      "metadata": {
        "id": "UnfjScEZuLE-"
      }
    },
    {
      "cell_type": "code",
      "source": [
        "#Determing rolling statistics\n",
        "moving_avg = monthly_OS.rolling(12).mean()\n",
        "moving_std= monthly_OS.rolling(12).std()"
      ],
      "metadata": {
        "id": "qThitGofuKFg"
      },
      "execution_count": null,
      "outputs": []
    },
    {
      "cell_type": "code",
      "source": [
        "#Plot rolling statistics:\n",
        "orig = plt.plot(monthly_OS, color='blue',label='Original')\n",
        "mean = plt.plot(moving_avg, color='red', label='Rolling Mean')\n",
        "std = plt.plot(moving_std, color='black', label = 'Rolling Std')\n",
        "plt.legend(loc='best')\n",
        "plt.title('Rolling Mean & Standard Deviation')\n",
        "plt.show(block=False)"
      ],
      "metadata": {
        "id": "OBpWiTmpxT5A"
      },
      "execution_count": null,
      "outputs": []
    },
    {
      "cell_type": "markdown",
      "source": [
        "##  Conduct the Dickey-Fuller test:"
      ],
      "metadata": {
        "id": "Lo1Rxor8xl7m"
      }
    },
    {
      "cell_type": "code",
      "source": [
        "from statsmodels.tsa.stattools import adfuller\n",
        "print ('Results of Dickey-Fuller Test:')\n",
        "dftest = adfuller(monthly_OS, autolag='AIC')\n",
        "dfoutput = pd.Series(dftest[0:4], index=['Test Statistic','p-value','#Lags Used','Number of Observations Used'])\n",
        "\n",
        "for key,value in dftest[4].items():\n",
        "    dfoutput['Critical Value (%s)'%key] = value\n",
        "print (dfoutput)"
      ],
      "metadata": {
        "id": "RI1V6AwdxdoJ"
      },
      "execution_count": null,
      "outputs": []
    },
    {
      "cell_type": "markdown",
      "source": [
        "Here’s how to interpret the most important values in the output:\n",
        "\n",
        "Test statistic: -1.630238\n",
        "\n",
        "P-value: 0.467366\n",
        "\n",
        "Since the p-value is not less than .05, we fail to reject the null hypothesis.\n",
        "\n",
        "This means the time series is non-stationary.\n",
        "\n",
        "In other words, it has some time-dependent structure and does not have constant variance over time."
      ],
      "metadata": {
        "id": "c-jBXzWMxuKY"
      }
    },
    {
      "cell_type": "markdown",
      "source": [
        "# 7. Make a Time Series Stationary"
      ],
      "metadata": {
        "id": "MxTUroUfx0nk"
      }
    },
    {
      "cell_type": "markdown",
      "source": [
        "There are several method to make a time series stationary:\n",
        "\n",
        "1. Take a log transform\n",
        "2. Moving average\n",
        "3. Exponentially weighted moving average\n",
        "4. Difference\n",
        "5. Decomposition\n",
        "\n",
        "Some might work well in this case and others might not. But the idea is to get a hang of all the methods and not focus on just the problem at hand."
      ],
      "metadata": {
        "id": "peOO12ajx5i6"
      }
    },
    {
      "cell_type": "code",
      "source": [
        "import pandas as pd\n",
        "\n",
        "# Sample DataFrame\n",
        "data = {'Category': ['A', 'B', 'A', 'C', 'B'],\n",
        "        'Product': ['X', 'Y', 'X', 'Z', 'Y'],\n",
        "        'Sales': [100, 200, 150, 50, 300]}\n",
        "df = pd.DataFrame(data)\n",
        "\n",
        "# Create a pivot table summarizing sales by category and product\n",
        "pivot_table = df.pivot_table(index='Category', columns='Product', values='Sales', aggfunc='sum')\n",
        "\n",
        "print(pivot_table)"
      ],
      "metadata": {
        "id": "nXI47sI5xtAc"
      },
      "execution_count": null,
      "outputs": []
    },
    {
      "cell_type": "code",
      "source": [
        "# remane column caterory to cat\n",
        "\n",
        "df.rename(columns={'Category':'cat'},inplace=True,)"
      ],
      "metadata": {
        "id": "fitgXoc3Hhhc"
      },
      "execution_count": null,
      "outputs": []
    },
    {
      "cell_type": "code",
      "source": [
        "df"
      ],
      "metadata": {
        "id": "vRXWVlZ5Hmdx"
      },
      "execution_count": null,
      "outputs": []
    },
    {
      "cell_type": "code",
      "source": [
        "from numpy import random\n",
        "\n",
        "z = random.randint(100, size = (5,5))\n",
        "z"
      ],
      "metadata": {
        "id": "MmXfbPcxaxAD"
      },
      "execution_count": null,
      "outputs": []
    },
    {
      "cell_type": "code",
      "source": [
        "arr = np.array([1,2,3,4,3,4,4,5])\n",
        "\n",
        "np.where(arr%2 == 0)"
      ],
      "metadata": {
        "id": "psSVLZUNa36j"
      },
      "execution_count": null,
      "outputs": []
    },
    {
      "cell_type": "code",
      "source": [
        "np.where(arr == 1)"
      ],
      "metadata": {
        "id": "lNeO3JWGbPcT"
      },
      "execution_count": null,
      "outputs": []
    },
    {
      "cell_type": "code",
      "source": [],
      "metadata": {
        "id": "sJepvMZDbqLy"
      },
      "execution_count": null,
      "outputs": []
    }
  ]
}